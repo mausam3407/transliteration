{
 "cells": [
  {
   "cell_type": "code",
   "execution_count": 32,
   "id": "26ecc9ed-51d0-42cd-8cd4-8c987012991c",
   "metadata": {},
   "outputs": [],
   "source": [
    "import xml.etree.ElementTree as ET\n",
    "tree = ET.parse('NEWS2018_DATASET_04/NEWS2018_M-EnHi_trn.xml')\n",
    "root = tree.getroot()\n",
    "root_child = list(root)\n",
    "data = {'source':[],'target':[]}\n",
    "for child in root_child:\n",
    "    children = list(child)\n",
    "    data['source'].append(children[0].text)\n",
    "    data['target'].append(children[1].text)"
   ]
  },
  {
   "cell_type": "code",
   "execution_count": 33,
   "id": "5cea09be-11be-4e3b-9853-7736c7939309",
   "metadata": {},
   "outputs": [],
   "source": [
    "import numpy as np\n",
    "target = np.array(data['target'])\n",
    "source = np.array(data['source'])"
   ]
  },
  {
   "cell_type": "code",
   "execution_count": 34,
   "id": "ef0bd2f0-4cff-4562-9b17-b401719b067a",
   "metadata": {},
   "outputs": [],
   "source": [
    "import tensorflow as tf\n",
    "class Vector:\n",
    "    def __init__(self, corpus):\n",
    "        self.word2id = {}\n",
    "        self.id2word = {}\n",
    "        self.pad = \"<PAD>\"\n",
    "        self.sos = \"<SOS>\"\n",
    "        self.eos = \"<EOS>\"\n",
    "        self.unk = \"<UNK>\"\n",
    "        \n",
    "        self.ipad = 0\n",
    "        self.isos = 1\n",
    "        self.ieos = 2\n",
    "        self.iunk = 3\n",
    "        \n",
    "        self.word2id[self.pad] = 0\n",
    "        self.word2id[self.sos] = 1\n",
    "        self.word2id[self.eos] = 2\n",
    "        self.word2id[self.unk] = 3\n",
    "        \n",
    "        self.id2word[0] = self.pad\n",
    "        self.id2word[1] = self.sos\n",
    "        self.id2word[2] = self.eos\n",
    "        self.id2word[3] = self.unk\n",
    "        \n",
    "        curr_id = 4\n",
    "        self.chars = {}\n",
    "        self.max_len = 0\n",
    "        for word in corpus:\n",
    "            self.max_len = max(self.max_len, len(word))\n",
    "            word = word.lower()\n",
    "            for char in word.strip():\n",
    "                self.chars[char] = 1 + self.chars.get(char,0)\n",
    "        \n",
    "        self.chars={k:v for k,v in sorted(self.chars.items(),\n",
    "                key=lambda item:item[1], reverse=True)}\n",
    "        for key in self.chars.keys():\n",
    "            self.word2id[key] = curr_id\n",
    "            self.id2word[curr_id] = key\n",
    "            curr_id+=1\n",
    "        self.vocab_size = len(self.word2id)\n",
    "    \n",
    "    def encode(self, word):\n",
    "        word = word.lower().strip()\n",
    "        res = [self.word2id.get(char,self.iunk) for char in word]\n",
    "        res.insert(0,self.isos)\n",
    "        res.append(self.ieos)\n",
    "        res = res + [self.ipad for i in range(len(res), self.max_len+3)]\n",
    "        return res[:self.max_len]\n",
    "    \n",
    "    def decode(self, vector):\n",
    "        res = []\n",
    "        for i in vector:\n",
    "            if i in [0,1]:\n",
    "                continue;\n",
    "            if i == 2:\n",
    "                break;\n",
    "            res.append(self.id2word.get(i, self.unk))\n",
    "        return ''.join(res)\n",
    "        \n",
    "        "
   ]
  },
  {
   "cell_type": "code",
   "execution_count": 35,
   "id": "808b2621-6be9-40cd-848a-f316bd86cc23",
   "metadata": {},
   "outputs": [],
   "source": [
    "hi = Vector(target)\n",
    "en = Vector(source)"
   ]
  },
  {
   "cell_type": "code",
   "execution_count": 36,
   "id": "8e3e2184-e568-4a20-8e00-5a14d80c7b25",
   "metadata": {},
   "outputs": [],
   "source": [
    "UNITS = 256"
   ]
  },
  {
   "cell_type": "code",
   "execution_count": 37,
   "id": "ddf8227b-4a77-4620-9d42-6396b24a9c3f",
   "metadata": {},
   "outputs": [],
   "source": [
    "target = list(map(hi.encode, target))\n",
    "source = list(map(en.encode, source))"
   ]
  },
  {
   "cell_type": "code",
   "execution_count": 38,
   "id": "daaa9047-78ff-4226-9274-9d22e38fcfeb",
   "metadata": {},
   "outputs": [],
   "source": [
    "target = tf.convert_to_tensor(np.array(target))\n",
    "source = tf.convert_to_tensor(np.array(source))"
   ]
  },
  {
   "cell_type": "code",
   "execution_count": 39,
   "id": "f2b2dbc1-abd3-49ad-a045-fe8a1d426745",
   "metadata": {},
   "outputs": [],
   "source": [
    "BUFFER_SIZE = len(target)\n",
    "BATCH_SIZE = 64\n",
    "\n",
    "is_train = np.random.uniform(size=(len(target),)) < 0.8\n",
    "\n",
    "train_raw = (\n",
    "    tf.data.Dataset\n",
    "    .from_tensor_slices((source[is_train], target[is_train]))\n",
    "    .shuffle(BUFFER_SIZE)\n",
    "    .batch(BATCH_SIZE))\n",
    "val_raw = (\n",
    "    tf.data.Dataset\n",
    "    .from_tensor_slices((source[~is_train], target[~is_train]))\n",
    "    .shuffle(BUFFER_SIZE)\n",
    "    .batch(BATCH_SIZE))"
   ]
  },
  {
   "cell_type": "code",
   "execution_count": 40,
   "id": "bc801e59-21f6-4ad6-8902-09c34fbf7be6",
   "metadata": {},
   "outputs": [],
   "source": [
    "def process_text(context, target):\n",
    "    targ_in = target[:,:-1]\n",
    "    targ_out = target[:,1:]\n",
    "    return (context, targ_in), targ_out\n",
    "  \n",
    "\n",
    "train_ds = train_raw.map(process_text, tf.data.AUTOTUNE)\n",
    "val_ds = val_raw.map(process_text, tf.data.AUTOTUNE)"
   ]
  },
  {
   "cell_type": "code",
   "execution_count": 41,
   "id": "83df2407-0553-47ea-b69b-a54b089e60b0",
   "metadata": {},
   "outputs": [
    {
     "name": "stdout",
     "output_type": "stream",
     "text": [
      "[ 1  4 20  9  6  7 13 23  4  2]\n",
      "\n",
      "[ 1 32 36  9 19 29  6 20  2  0]\n",
      "[32 36  9 19 29  6 20  2  0  0]\n"
     ]
    }
   ],
   "source": [
    "for (ex_context_tok, ex_tar_in), ex_tar_out in train_ds.take(1):\n",
    "    print(ex_context_tok[0, :10].numpy()) \n",
    "    print()\n",
    "    print(ex_tar_in[0, :10].numpy()) \n",
    "    print(ex_tar_out[0, :10].numpy())"
   ]
  },
  {
   "cell_type": "code",
   "execution_count": 42,
   "id": "f71b6475-5e47-48df-a025-aff7fac31d11",
   "metadata": {},
   "outputs": [],
   "source": [
    "class Encoder(tf.keras.layers.Layer):\n",
    "      def __init__(self, vocab_size, units):\n",
    "        super(Encoder, self).__init__()\n",
    "        self.vocab_size = vocab_size\n",
    "        self.units = units\n",
    "        \n",
    "        # The embedding layer converts tokens to vectors\n",
    "        self.embedding = tf.keras.layers.Embedding(self.vocab_size, self.units,\n",
    "                                                   mask_zero=True)\n",
    "    \n",
    "        # The RNN layer processes those vectors sequentially.\n",
    "        self.rnn = tf.keras.layers.Bidirectional(\n",
    "            merge_mode='sum',\n",
    "            layer=tf.keras.layers.GRU(self.units,\n",
    "                                # Return the sequence and state\n",
    "                                return_sequences=True,\n",
    "                                recurrent_initializer='glorot_uniform'))\n",
    "    \n",
    "      def call(self, x):\n",
    "        \n",
    "    \n",
    "        # 2. The embedding layer looks up the embedding vector for each token.\n",
    "        x = self.embedding(x)\n",
    "        \n",
    "        # 3. The GRU processes the sequence of embeddings.\n",
    "        x = self.rnn(x)\n",
    "        \n",
    "        # 4. Returns the new sequence of embeddings.\n",
    "        return x\n",
    "    \n",
    "      def convert_input(self, texts):\n",
    "        texts = list(map(en.encode, texts))\n",
    "        texts = tf.convert_to_tensor(np.array(texts))\n",
    "        context = self(texts)\n",
    "        return context\n",
    "    "
   ]
  },
  {
   "cell_type": "code",
   "execution_count": 43,
   "id": "2cf89016-1c5d-4f66-a753-3f72518c7068",
   "metadata": {},
   "outputs": [
    {
     "name": "stdout",
     "output_type": "stream",
     "text": [
      "Context tokens, shape (batch, s): (64, 61)\n",
      "Encoder output, shape (batch, s, units): (64, 61, 256)\n"
     ]
    }
   ],
   "source": [
    "encoder = Encoder(en.vocab_size, UNITS)\n",
    "ex_context = encoder(ex_context_tok)\n",
    "\n",
    "print(f'Context tokens, shape (batch, s): {ex_context_tok.shape}')\n",
    "print(f'Encoder output, shape (batch, s, units): {ex_context.shape}')"
   ]
  },
  {
   "cell_type": "code",
   "execution_count": 44,
   "id": "f24b7416-d5b6-498d-a47a-db0f0c35a6f9",
   "metadata": {},
   "outputs": [],
   "source": [
    "class CrossAttention(tf.keras.layers.Layer):\n",
    "    def __init__(self, units, **kwargs):\n",
    "        super().__init__()\n",
    "        self.mha = tf.keras.layers.MultiHeadAttention(key_dim=units, num_heads=1, **kwargs)\n",
    "        self.layernorm = tf.keras.layers.LayerNormalization()\n",
    "        self.add = tf.keras.layers.Add()\n",
    "\n",
    "    def call(self, x, context):\n",
    "        \n",
    "        attn_output, attn_scores = self.mha(\n",
    "            query=x,\n",
    "            value=context,\n",
    "            return_attention_scores=True)\n",
    "        \n",
    "        \n",
    "        # Cache the attention scores for plotting later.\n",
    "        attn_scores = tf.reduce_mean(attn_scores, axis=1)\n",
    "        self.last_attention_weights = attn_scores\n",
    "    \n",
    "        x = self.add([x, attn_output])\n",
    "        x = self.layernorm(x)\n",
    "    \n",
    "        return x"
   ]
  },
  {
   "cell_type": "code",
   "execution_count": 45,
   "id": "46393817-df2d-4400-9a0b-d82ac3aa7fb6",
   "metadata": {},
   "outputs": [
    {
     "name": "stdout",
     "output_type": "stream",
     "text": [
      "Context sequence, shape (batch, s, units): (64, 61, 256)\n",
      "Target sequence, shape (batch, t, units): (64, 61, 256)\n",
      "Attention result, shape (batch, t, units): (64, 61, 256)\n",
      "Attention weights, shape (batch, t, s):    (64, 61, 61)\n"
     ]
    }
   ],
   "source": [
    "attention_layer = CrossAttention(UNITS)\n",
    "\n",
    "# Attend to the encoded tokens\n",
    "embed = tf.keras.layers.Embedding(hi.vocab_size,\n",
    "                                  output_dim=UNITS, mask_zero=True)\n",
    "ex_tar_embed = embed(ex_tar_in)\n",
    "\n",
    "result = attention_layer(ex_tar_embed, ex_context)\n",
    "\n",
    "print(f'Context sequence, shape (batch, s, units): {ex_context.shape}')\n",
    "print(f'Target sequence, shape (batch, t, units): {ex_tar_embed.shape}')\n",
    "print(f'Attention result, shape (batch, t, units): {result.shape}')\n",
    "print(f'Attention weights, shape (batch, t, s):    {attention_layer.last_attention_weights.shape}')"
   ]
  },
  {
   "cell_type": "code",
   "execution_count": 46,
   "id": "6d0c87fb-054e-4227-9441-138014b21910",
   "metadata": {},
   "outputs": [
    {
     "data": {
      "text/plain": [
       "array([1.        , 0.99999994, 0.99999994, 0.99999994, 0.9999999 ,\n",
       "       0.9999998 , 0.99999994, 1.        , 0.99999994, 0.99999976,\n",
       "       0.99999976, 0.99999976, 0.99999976, 0.99999976, 0.99999976,\n",
       "       0.99999976, 0.99999976, 0.99999976, 0.99999976, 0.99999976,\n",
       "       0.99999976, 0.99999976, 0.99999976, 0.99999976, 0.99999976,\n",
       "       0.99999976, 0.99999976, 0.99999976, 0.99999976, 0.99999976,\n",
       "       0.99999976, 0.99999976, 0.99999976, 0.99999976, 0.99999976,\n",
       "       0.99999976, 0.99999976, 0.99999976, 0.99999976, 0.99999976,\n",
       "       0.99999976, 0.99999976, 0.99999976, 0.99999976, 0.99999976,\n",
       "       0.99999976, 0.99999976, 0.99999976, 0.99999976, 0.99999976,\n",
       "       0.99999976, 0.99999976, 0.99999976, 0.99999976, 0.99999976,\n",
       "       0.99999976, 0.99999976, 0.99999976, 0.99999976, 0.99999976,\n",
       "       0.99999976], dtype=float32)"
      ]
     },
     "execution_count": 46,
     "metadata": {},
     "output_type": "execute_result"
    }
   ],
   "source": [
    "attention_layer.last_attention_weights[0].numpy().sum(axis=-1)"
   ]
  },
  {
   "cell_type": "code",
   "execution_count": 47,
   "id": "d82f02ae-892a-4dd1-82b9-8ca05eda07dd",
   "metadata": {},
   "outputs": [
    {
     "data": {
      "image/png": "[encoded data removed]",
      "text/plain": [
       "<Figure size 432x288 with 2 Axes>"
      ]
     },
     "metadata": {
      "needs_background": "light"
     },
     "output_type": "display_data"
    }
   ],
   "source": [
    "import matplotlib.pyplot as plt\n",
    "import matplotlib.ticker as ticker\n",
    "\n",
    "attention_weights = attention_layer.last_attention_weights\n",
    "mask=(ex_context_tok != 0).numpy()\n",
    "\n",
    "plt.subplot(1, 2, 1)\n",
    "plt.pcolormesh(mask*attention_weights[:, 0, :])\n",
    "plt.title('Attention weights')\n",
    "\n",
    "plt.subplot(1, 2, 2)\n",
    "plt.pcolormesh(mask)\n",
    "plt.title('Mask');"
   ]
  },
  {
   "cell_type": "code",
   "execution_count": 48,
   "id": "bfeab09b-ed31-4945-92cd-9487fc49da05",
   "metadata": {},
   "outputs": [],
   "source": [
    "class Decoder(tf.keras.layers.Layer):\n",
    "    @classmethod\n",
    "    def add_method(cls, fun):\n",
    "        setattr(cls, fun.__name__, fun)\n",
    "        return fun\n",
    "\n",
    "    def __init__(self, vocab_size, units):\n",
    "        super(Decoder, self).__init__()\n",
    "        self.vocab_size = vocab_size\n",
    "        self.units = units\n",
    "        self.start_token = 1\n",
    "        self.end_token = 2\n",
    "    \n",
    "        # 1. The embedding layer converts token IDs to vectors\n",
    "        self.embedding = tf.keras.layers.Embedding(self.vocab_size,\n",
    "                                                   units, mask_zero=True)\n",
    "    \n",
    "        # 2. The RNN keeps track of what's been generated so far.\n",
    "        self.rnn = tf.keras.layers.GRU(units,\n",
    "                                       return_sequences=True,\n",
    "                                       return_state=True,\n",
    "                                       recurrent_initializer='glorot_uniform')\n",
    "    \n",
    "        # 3. The RNN output will be the query for the attention layer.\n",
    "        self.attention = CrossAttention(units)\n",
    "    \n",
    "        # 4. This fully connected layer produces the logits for each\n",
    "        # output token.\n",
    "        self.output_layer = tf.keras.layers.Dense(self.vocab_size)"
   ]
  },
  {
   "cell_type": "code",
   "execution_count": 49,
   "id": "2aaaa970-d078-4ae6-ac91-8a4be623bec5",
   "metadata": {},
   "outputs": [],
   "source": [
    "@Decoder.add_method\n",
    "def call(self,\n",
    "         context, x,\n",
    "         state=None,\n",
    "         return_state=False):  \n",
    "    \n",
    "    \n",
    "    # 1. Lookup the embeddings\n",
    "    x = self.embedding(x)\n",
    "    \n",
    "    # 2. Process the target sequence.\n",
    "    x, state = self.rnn(x, initial_state=state)\n",
    "    \n",
    "    # 3. Use the RNN output as the query for the attention over the context.\n",
    "    x = self.attention(x, context)\n",
    "    self.last_attention_weights = self.attention.last_attention_weights\n",
    "    \n",
    "    # Step 4. Generate logit predictions for the next token.\n",
    "    logits = self.output_layer(x)\n",
    "    \n",
    "    if return_state:\n",
    "        return logits, state\n",
    "    else:\n",
    "        return logits"
   ]
  },
  {
   "cell_type": "code",
   "execution_count": 50,
   "id": "4bb2b760-a878-44f0-831c-71aef3b482e6",
   "metadata": {},
   "outputs": [],
   "source": [
    "decoder = Decoder(hi.vocab_size, UNITS)"
   ]
  },
  {
   "cell_type": "code",
   "execution_count": 51,
   "id": "d469328b-580b-4ece-be3c-fe9a89b51a07",
   "metadata": {},
   "outputs": [
    {
     "name": "stdout",
     "output_type": "stream",
     "text": [
      "encoder output shape: (batch, s, units) (64, 61, 256)\n",
      "input target tokens shape: (batch, t) (64, 61)\n",
      "logits shape shape: (batch, target_vocabulary_size) (64, 61, 87)\n"
     ]
    }
   ],
   "source": [
    "logits = decoder(ex_context, ex_tar_in)\n",
    "\n",
    "print(f'encoder output shape: (batch, s, units) {ex_context.shape}')\n",
    "print(f'input target tokens shape: (batch, t) {ex_tar_in.shape}')\n",
    "print(f'logits shape shape: (batch, target_vocabulary_size) {logits.shape}')"
   ]
  },
  {
   "cell_type": "code",
   "execution_count": 52,
   "id": "146017c5-85af-48ad-9b6a-9b826972e6de",
   "metadata": {},
   "outputs": [],
   "source": [
    "@Decoder.add_method\n",
    "def get_initial_state(self, context):\n",
    "    batch_size = tf.shape(context)[0]\n",
    "    start_tokens = tf.fill([batch_size, 1], self.start_token)\n",
    "    done = tf.zeros([batch_size, 1], dtype=tf.bool)\n",
    "    embedded = self.embedding(start_tokens)\n",
    "    return start_tokens, done, self.rnn.get_initial_state(embedded)[0]"
   ]
  },
  {
   "cell_type": "code",
   "execution_count": 53,
   "id": "2e8fd01a-c0f3-4557-8513-149fbddf5842",
   "metadata": {},
   "outputs": [],
   "source": [
    "@Decoder.add_method\n",
    "def tokens_to_text(self, tokens):\n",
    "    tokens = tokens.numpy()\n",
    "    words = [hi.decode(token) for token in tokens]\n",
    "    return words"
   ]
  },
  {
   "cell_type": "code",
   "execution_count": 54,
   "id": "fb31c700-5498-4606-97a6-593a63fcd576",
   "metadata": {},
   "outputs": [],
   "source": [
    "@Decoder.add_method\n",
    "def get_next_token(self, context, next_token, done, state, temperature = 0.0):\n",
    "    logits, state = self(\n",
    "        context, next_token,\n",
    "        state = state,\n",
    "        return_state=True) \n",
    "  \n",
    "    if temperature == 0.0:\n",
    "        next_token = tf.argmax(logits, axis=-1)\n",
    "    else:\n",
    "        logits = logits[:, -1, :]/temperature\n",
    "        next_token = tf.random.categorical(logits, num_samples=1)\n",
    "\n",
    "    # If a sequence produces an `end_token`, set it `done`\n",
    "    done = done | (next_token == self.end_token)\n",
    "    # Once a sequence is done it only produces 0-padding.\n",
    "    next_token = tf.where(done, tf.constant(0, dtype=tf.int64), next_token)\n",
    "  \n",
    "    return next_token, done, state"
   ]
  },
  {
   "cell_type": "code",
   "execution_count": 55,
   "id": "3a9adec4-f4d5-4102-8374-c42c35feb454",
   "metadata": {},
   "outputs": [
    {
     "data": {
      "text/plain": [
       "['ष़ईक?झ-धण4', 'ज:गघ6कअकऑन', ')वढ ह:<UNK>ञग़']"
      ]
     },
     "execution_count": 55,
     "metadata": {},
     "output_type": "execute_result"
    }
   ],
   "source": [
    "# Setup the loop variables.\n",
    "next_token, done, state = decoder.get_initial_state(ex_context)\n",
    "tokens = []\n",
    "\n",
    "for n in range(10):\n",
    "  # Run one step.\n",
    "  next_token, done, state = decoder.get_next_token(\n",
    "      ex_context, next_token, done, state, temperature=1.0)\n",
    "  # Add the token to the output.\n",
    "  tokens.append(next_token)\n",
    "\n",
    "# Stack all the tokens together.\n",
    "tokens = tf.concat(tokens, axis=-1) # (batch, t)\n",
    "\n",
    "# Convert the tokens back to a a string\n",
    "result = decoder.tokens_to_text(tokens)\n",
    "result[:3]"
   ]
  },
  {
   "cell_type": "code",
   "execution_count": 56,
   "id": "38a142c7-ae48-4a07-93a9-e8f42b2bca1d",
   "metadata": {},
   "outputs": [],
   "source": [
    "class Translator(tf.keras.Model):\n",
    "    @classmethod\n",
    "    def add_method(cls, fun):\n",
    "        setattr(cls, fun.__name__, fun)\n",
    "        return fun\n",
    "\n",
    "    def __init__(self, units,\n",
    "               source_vocab_size,\n",
    "               target_vocab_size):\n",
    "        super().__init__()\n",
    "        # Build the encoder and decoder\n",
    "        encoder = Encoder(source_vocab_size, units)\n",
    "        decoder = Decoder(target_vocab_size, units)\n",
    "\n",
    "        self.encoder = encoder\n",
    "        self.decoder = decoder\n",
    "\n",
    "    def call(self, inputs):\n",
    "        context, x = inputs\n",
    "        context = self.encoder(context)\n",
    "        logits = self.decoder(context, x)\n",
    "\n",
    "        #TODO(b/250038731): remove this\n",
    "        try:\n",
    "          # Delete the keras mask, so keras doesn't scale the loss+accuracy. \n",
    "            del logits._keras_mask\n",
    "        except AttributeError:\n",
    "            pass\n",
    "\n",
    "        return logits"
   ]
  },
  {
   "cell_type": "code",
   "execution_count": 57,
   "id": "897a9da2-bb7a-4ea3-89c7-8ffdbb412e39",
   "metadata": {},
   "outputs": [
    {
     "name": "stdout",
     "output_type": "stream",
     "text": [
      "Context tokens, shape: (batch, s, units) (64, 61)\n",
      "Target tokens, shape: (batch, t) (64, 61)\n",
      "logits, shape: (batch, t, target_vocabulary_size) (64, 61, 87)\n"
     ]
    }
   ],
   "source": [
    "model = Translator(UNITS, en.vocab_size, hi.vocab_size)\n",
    "\n",
    "logits = model((ex_context_tok, ex_tar_in))\n",
    "\n",
    "print(f'Context tokens, shape: (batch, s, units) {ex_context_tok.shape}')\n",
    "print(f'Target tokens, shape: (batch, t) {ex_tar_in.shape}')\n",
    "print(f'logits, shape: (batch, t, target_vocabulary_size) {logits.shape}')"
   ]
  },
  {
   "cell_type": "code",
   "execution_count": 32,
   "id": "26920c4d-1904-4354-b42f-e5dc0147fc1f",
   "metadata": {},
   "outputs": [],
   "source": [
    "def masked_loss(y_true, y_pred):\n",
    "    # Calculate the loss for each item in the batch.\n",
    "    loss_fn = tf.keras.losses.SparseCategoricalCrossentropy(\n",
    "        from_logits=True, reduction='none')\n",
    "    loss = loss_fn(y_true, y_pred)\n",
    "\n",
    "    # Mask off the losses on padding.\n",
    "    mask = tf.cast(y_true != 0, loss.dtype)\n",
    "    loss *= mask\n",
    "\n",
    "    # Return the total.\n",
    "    return tf.reduce_sum(loss)/tf.reduce_sum(mask)"
   ]
  },
  {
   "cell_type": "code",
   "execution_count": 33,
   "id": "646bac11-37a5-4d65-b277-d9a130caf56f",
   "metadata": {},
   "outputs": [],
   "source": [
    "def masked_acc(y_true, y_pred):\n",
    "    # Calculate the loss for each item in the batch.\n",
    "    y_pred = tf.argmax(y_pred, axis=-1)\n",
    "    y_pred = tf.cast(y_pred, y_true.dtype)\n",
    "    \n",
    "    match = tf.cast(y_true == y_pred, tf.float32)\n",
    "    mask = tf.cast(y_true != 0, tf.float32)\n",
    "    \n",
    "    return tf.reduce_sum(match)/tf.reduce_sum(mask)"
   ]
  },
  {
   "cell_type": "code",
   "execution_count": 35,
   "id": "7f3c0e5e-99ae-40ac-b51b-c7729bee2152",
   "metadata": {},
   "outputs": [],
   "source": [
    "model.compile(optimizer='adam',\n",
    "              loss=masked_loss, \n",
    "              metrics=[masked_acc, masked_loss])"
   ]
  },
  {
   "cell_type": "code",
   "execution_count": 30,
   "id": "77dbe710-49f9-4cec-9621-187dc234ebff",
   "metadata": {},
   "outputs": [
    {
     "data": {
      "text/plain": [
       "{'expected_loss': 4.465908, 'expected_acc': 0.011494252873563218}"
      ]
     },
     "execution_count": 30,
     "metadata": {},
     "output_type": "execute_result"
    }
   ],
   "source": [
    "vocab_size = 1.0 * hi.vocab_size\n",
    "\n",
    "{\"expected_loss\": tf.math.log(vocab_size).numpy(),\n",
    " \"expected_acc\": 1/vocab_size}"
   ]
  },
  {
   "cell_type": "code",
   "execution_count": 36,
   "id": "bc2b218c-0543-4641-9882-733936deb8b4",
   "metadata": {},
   "outputs": [
    {
     "name": "stdout",
     "output_type": "stream",
     "text": [
      "20/20 [==============================] - 5s 69ms/step - loss: 0.2788 - masked_acc: 0.9109 - masked_loss: 0.2788\n"
     ]
    },
    {
     "data": {
      "text/plain": [
       "{'loss': 0.27882808446884155,\n",
       " 'masked_acc': 0.910919189453125,\n",
       " 'masked_loss': 0.27882808446884155}"
      ]
     },
     "execution_count": 36,
     "metadata": {},
     "output_type": "execute_result"
    }
   ],
   "source": [
    "model.evaluate(val_ds, steps=20, return_dict=True)"
   ]
  },
  {
   "cell_type": "code",
   "execution_count": 32,
   "id": "734c89c3-dfe7-49b2-bbe0-8a467c1b5dd0",
   "metadata": {},
   "outputs": [
    {
     "name": "stdout",
     "output_type": "stream",
     "text": [
      "Epoch 1/100\n",
      "100/100 [==============================] - 26s 209ms/step - loss: 2.2784 - masked_acc: 0.3690 - masked_loss: 2.2784 - val_loss: 1.6135 - val_masked_acc: 0.5109 - val_masked_loss: 1.6135\n",
      "Epoch 2/100\n",
      "100/100 [==============================] - 21s 212ms/step - loss: 1.4105 - masked_acc: 0.5694 - masked_loss: 1.4096 - val_loss: 1.0982 - val_masked_acc: 0.6576 - val_masked_loss: 1.0982\n",
      "Epoch 3/100\n",
      "100/100 [==============================] - 21s 213ms/step - loss: 0.9566 - masked_acc: 0.7019 - masked_loss: 0.9566 - val_loss: 0.8858 - val_masked_acc: 0.7256 - val_masked_loss: 0.8858\n",
      "Epoch 4/100\n",
      "100/100 [==============================] - 22s 220ms/step - loss: 0.8220 - masked_acc: 0.7414 - masked_loss: 0.8227 - val_loss: 0.7717 - val_masked_acc: 0.7590 - val_masked_loss: 0.7717\n",
      "Epoch 5/100\n",
      "100/100 [==============================] - 22s 216ms/step - loss: 0.7333 - masked_acc: 0.7678 - masked_loss: 0.7345 - val_loss: 0.7008 - val_masked_acc: 0.7848 - val_masked_loss: 0.7008\n",
      "Epoch 6/100\n",
      "100/100 [==============================] - 22s 218ms/step - loss: 0.6529 - masked_acc: 0.7915 - masked_loss: 0.6529 - val_loss: 0.6757 - val_masked_acc: 0.7840 - val_masked_loss: 0.6757\n",
      "Epoch 7/100\n",
      "100/100 [==============================] - 22s 218ms/step - loss: 0.6248 - masked_acc: 0.8017 - masked_loss: 0.6260 - val_loss: 0.5969 - val_masked_acc: 0.8108 - val_masked_loss: 0.5969\n",
      "Epoch 8/100\n",
      "100/100 [==============================] - 22s 221ms/step - loss: 0.5774 - masked_acc: 0.8141 - masked_loss: 0.5774 - val_loss: 0.5584 - val_masked_acc: 0.8229 - val_masked_loss: 0.5584\n",
      "Epoch 9/100\n",
      "100/100 [==============================] - 22s 223ms/step - loss: 0.5345 - masked_acc: 0.8295 - masked_loss: 0.5332 - val_loss: 0.5848 - val_masked_acc: 0.8202 - val_masked_loss: 0.5848\n",
      "Epoch 10/100\n",
      "100/100 [==============================] - 23s 226ms/step - loss: 0.5097 - masked_acc: 0.8372 - masked_loss: 0.5099 - val_loss: 0.5670 - val_masked_acc: 0.8290 - val_masked_loss: 0.5670\n",
      "Epoch 11/100\n",
      "100/100 [==============================] - 23s 230ms/step - loss: 0.4957 - masked_acc: 0.8418 - masked_loss: 0.4957 - val_loss: 0.5449 - val_masked_acc: 0.8227 - val_masked_loss: 0.5449\n",
      "Epoch 12/100\n",
      "100/100 [==============================] - 23s 228ms/step - loss: 0.4435 - masked_acc: 0.8541 - masked_loss: 0.4437 - val_loss: 0.5175 - val_masked_acc: 0.8434 - val_masked_loss: 0.5175\n",
      "Epoch 13/100\n",
      "100/100 [==============================] - 23s 229ms/step - loss: 0.4372 - masked_acc: 0.8582 - masked_loss: 0.4376 - val_loss: 0.5372 - val_masked_acc: 0.8339 - val_masked_loss: 0.5372\n",
      "Epoch 14/100\n",
      "100/100 [==============================] - 23s 230ms/step - loss: 0.4046 - masked_acc: 0.8684 - masked_loss: 0.4046 - val_loss: 0.5034 - val_masked_acc: 0.8431 - val_masked_loss: 0.5034\n",
      "Epoch 15/100\n",
      "100/100 [==============================] - 23s 230ms/step - loss: 0.4070 - masked_acc: 0.8679 - masked_loss: 0.4058 - val_loss: 0.4817 - val_masked_acc: 0.8512 - val_masked_loss: 0.4817\n",
      "Epoch 16/100\n",
      "100/100 [==============================] - 23s 231ms/step - loss: 0.3859 - masked_acc: 0.8732 - masked_loss: 0.3859 - val_loss: 0.4478 - val_masked_acc: 0.8575 - val_masked_loss: 0.4478\n",
      "Epoch 17/100\n",
      "100/100 [==============================] - 23s 230ms/step - loss: 0.3555 - masked_acc: 0.8806 - masked_loss: 0.3562 - val_loss: 0.4589 - val_masked_acc: 0.8557 - val_masked_loss: 0.4589\n",
      "Epoch 18/100\n",
      "100/100 [==============================] - 23s 231ms/step - loss: 0.3503 - masked_acc: 0.8838 - masked_loss: 0.3505 - val_loss: 0.4810 - val_masked_acc: 0.8503 - val_masked_loss: 0.4810\n",
      "Epoch 19/100\n",
      "100/100 [==============================] - 23s 233ms/step - loss: 0.3483 - masked_acc: 0.8849 - masked_loss: 0.3483 - val_loss: 0.4470 - val_masked_acc: 0.8615 - val_masked_loss: 0.4470\n",
      "Epoch 20/100\n",
      "100/100 [==============================] - 23s 231ms/step - loss: 0.3213 - masked_acc: 0.8913 - masked_loss: 0.3228 - val_loss: 0.4685 - val_masked_acc: 0.8561 - val_masked_loss: 0.4685\n",
      "Epoch 21/100\n",
      "100/100 [==============================] - 23s 233ms/step - loss: 0.3170 - masked_acc: 0.8949 - masked_loss: 0.3170 - val_loss: 0.4587 - val_masked_acc: 0.8604 - val_masked_loss: 0.4587\n",
      "Epoch 22/100\n",
      "100/100 [==============================] - 23s 231ms/step - loss: 0.2922 - masked_acc: 0.9023 - masked_loss: 0.2918 - val_loss: 0.4298 - val_masked_acc: 0.8706 - val_masked_loss: 0.4298\n",
      "Epoch 23/100\n",
      "100/100 [==============================] - 23s 232ms/step - loss: 0.2966 - masked_acc: 0.9013 - masked_loss: 0.2971 - val_loss: 0.4701 - val_masked_acc: 0.8570 - val_masked_loss: 0.4701\n",
      "Epoch 24/100\n",
      "100/100 [==============================] - 23s 233ms/step - loss: 0.2808 - masked_acc: 0.9055 - masked_loss: 0.2808 - val_loss: 0.4684 - val_masked_acc: 0.8609 - val_masked_loss: 0.4684\n",
      "Epoch 25/100\n",
      "100/100 [==============================] - 23s 232ms/step - loss: 0.2679 - masked_acc: 0.9109 - masked_loss: 0.2679 - val_loss: 0.4659 - val_masked_acc: 0.8642 - val_masked_loss: 0.4659\n"
     ]
    }
   ],
   "source": [
    "history = model.fit(\n",
    "    train_ds.repeat(), \n",
    "    epochs=100,\n",
    "    steps_per_epoch = 100,\n",
    "    validation_data=val_ds,\n",
    "    validation_steps = 20,\n",
    "    callbacks=[\n",
    "        tf.keras.callbacks.EarlyStopping(patience=3)])"
   ]
  },
  {
   "cell_type": "code",
   "execution_count": 33,
   "id": "cdd10906-fb1a-4eda-9b91-54f23b674964",
   "metadata": {},
   "outputs": [
    {
     "data": {
      "text/plain": [
       "<matplotlib.legend.Legend at 0x7f77e832c250>"
      ]
     },
     "execution_count": 33,
     "metadata": {},
     "output_type": "execute_result"
    },
    {
     "data": {
      "image/png": "[encoded data removed]",
      "text/plain": [
       "<Figure size 432x288 with 1 Axes>"
      ]
     },
     "metadata": {
      "needs_background": "light"
     },
     "output_type": "display_data"
    }
   ],
   "source": [
    "plt.plot(history.history['loss'], label='loss')\n",
    "plt.plot(history.history['val_loss'], label='val_loss')\n",
    "plt.ylim([0, max(plt.ylim())])\n",
    "plt.xlabel('Epoch #')\n",
    "plt.ylabel('CE/token')\n",
    "plt.legend()"
   ]
  },
  {
   "cell_type": "code",
   "execution_count": 34,
   "id": "e1ec8812-cb00-44a7-b8ed-7f5a06d35b9e",
   "metadata": {},
   "outputs": [
    {
     "data": {
      "text/plain": [
       "<matplotlib.legend.Legend at 0x7f780cbe2040>"
      ]
     },
     "execution_count": 34,
     "metadata": {},
     "output_type": "execute_result"
    },
    {
     "data": {
      "image/png": "[encoded data removed]",
      "text/plain": [
       "<Figure size 432x288 with 1 Axes>"
      ]
     },
     "metadata": {
      "needs_background": "light"
     },
     "output_type": "display_data"
    }
   ],
   "source": [
    "plt.plot(history.history['masked_acc'], label='accuracy')\n",
    "plt.plot(history.history['val_masked_acc'], label='val_accuracy')\n",
    "plt.ylim([0, max(plt.ylim())])\n",
    "plt.xlabel('Epoch #')\n",
    "plt.ylabel('CE/token')\n",
    "plt.legend()"
   ]
  },
  {
   "cell_type": "code",
   "execution_count": 60,
   "id": "69d8a70f-6ff3-44ec-88c3-545be0c7dd6d",
   "metadata": {},
   "outputs": [],
   "source": [
    "@Translator.add_method\n",
    "def translate(self,\n",
    "              texts, *,\n",
    "              max_length=50,\n",
    "              temperature=0.0):\n",
    "  # Process the input texts\n",
    "    context = self.encoder.convert_input(texts)\n",
    "    batch_size = tf.shape(texts)[0]\n",
    "\n",
    "    # Setup the loop inputs\n",
    "    tokens = []\n",
    "    attention_weights = []\n",
    "    next_token, done, state = self.decoder.get_initial_state(context)\n",
    "\n",
    "    for _ in range(max_length):\n",
    "        # Generate the next token\n",
    "        next_token, done, state = self.decoder.get_next_token(\n",
    "            context, next_token, done,  state, temperature)\n",
    "        \n",
    "        # Collect the generated tokens\n",
    "        tokens.append(next_token)\n",
    "        attention_weights.append(self.decoder.last_attention_weights)\n",
    "    \n",
    "        if tf.executing_eagerly() and tf.reduce_all(done):\n",
    "            break\n",
    "\n",
    "    # Stack the lists of tokens and attention weights.\n",
    "    tokens = tf.concat(tokens, axis=-1)   # t*[(batch 1)] -> (batch, t)\n",
    "    self.last_attention_weights = tf.concat(attention_weights, axis=1)  # t*[(batch 1 s)] -> (batch, t s)\n",
    "\n",
    "    result = self.decoder.tokens_to_text(tokens)\n",
    "    return result"
   ]
  },
  {
   "cell_type": "code",
   "execution_count": 64,
   "id": "e7abb24f-8b87-4d0d-bf4a-62d4e99fb425",
   "metadata": {},
   "outputs": [
    {
     "data": {
      "text/plain": [
       "['दुख', 'बहुत बदा दुख', 'जीवन का दुख', 'दुख ही दुख']"
      ]
     },
     "execution_count": 64,
     "metadata": {},
     "output_type": "execute_result"
    }
   ],
   "source": [
    "result = model.translate(['dukh', 'bahut bada dukh', 'jeevan ka dukh', 'dukh hi dukh']) # Are you still home\n",
    "result"
   ]
  },
  {
   "cell_type": "code",
   "execution_count": 65,
   "id": "b1ae5729-24aa-4273-bf85-d1dc7ed181cb",
   "metadata": {},
   "outputs": [],
   "source": [
    "model.save_weights('metadata/weights_2', save_format='tf')"
   ]
  },
  {
   "cell_type": "code",
   "execution_count": null,
   "id": "085abb06-0b37-409e-8669-18b3f3840649",
   "metadata": {},
   "outputs": [],
   "source": []
  }
 ],
 "metadata": {
  "kernelspec": {
   "display_name": "Python 3",
   "language": "python",
   "name": "python3"
  },
  "language_info": {
   "codemirror_mode": {
    "name": "ipython",
    "version": 3
   },
   "file_extension": ".py",
   "mimetype": "text/x-python",
   "name": "python",
   "nbconvert_exporter": "python",
   "pygments_lexer": "ipython3",
   "version": "3.8.5"
  }
 },
 "nbformat": 4,
 "nbformat_minor": 5
}
